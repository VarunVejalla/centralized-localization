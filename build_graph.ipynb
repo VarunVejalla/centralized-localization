{
 "cells": [
  {
   "cell_type": "code",
   "execution_count": 48,
   "id": "dea2f78d",
   "metadata": {},
   "outputs": [],
   "source": [
    "import json\n",
    "import networkx as nx\n",
    "from collections import defaultdict\n",
    "\n",
    "data = json.load(open(\"/home/vvejalla/centralized-localization/tcas1_cfg_all_functions.json\"))\n",
    "\n",
    "graphs = []\n",
    "\n",
    "node_to_lines_all = []\n",
    "\n",
    "for entry in data:\n",
    "    G = nx.DiGraph()\n",
    "    node_to_lines = {}\n",
    "    # edge from line i to line j iff there is a single block with i and j adjacent in the block \n",
    "    # or there are two blocks that are connected and \n",
    "    # Add nodes and their line mappings\n",
    "    \n",
    "    lines_set = set()\n",
    "    \n",
    "    \n",
    "    for node, info in entry[\"nodes\"].items():\n",
    "        G.add_node(node)\n",
    "        lines = info.get(\"lines\", [])\n",
    "        node_to_lines[node] = lines\n",
    "        lines_set = lines_set.union(set(lines))\n",
    "\n",
    "    # Add edges\n",
    "    for edge in entry[\"edges\"]:\n",
    "        src, tgt = edge\n",
    "        G.add_edge(src, tgt)\n",
    "    \n",
    "    H = nx.DiGraph()\n",
    "    H.add_nodes_from(lines_set)\n",
    "    for node in G.nodes:\n",
    "        for i in range(1, len(node_to_lines[node])):\n",
    "            H.add_edge(node_to_lines[node][i-1], node_to_lines[node][i])\n",
    "    \n",
    "    for edge in G.edges:\n",
    "        if len(node_to_lines[edge[0]]) > 0 and len(node_to_lines[edge[1]]) > 0:\n",
    "            H.add_edge(node_to_lines[edge[0]][-1], node_to_lines[edge[1]][0])\n",
    "    \n",
    "\n",
    "    graphs.append(H)\n",
    "    # node_to_lines_all.append(node_to_lines)"
   ]
  },
  {
   "cell_type": "code",
   "execution_count": 49,
   "id": "48fea433",
   "metadata": {},
   "outputs": [
    {
     "name": "stdout",
     "output_type": "stream",
     "text": [
      "{46: [1539, 37], 48: [1539, 37], 49: [1539, 37], 50: [1539, 37], 51: [1539, 37], 52: [1539, 37], 54: [546, 30], 56: [546, 30], 59: [847, 37], 64: [847, 37], 70: [847, 37], 71: [847, 37], 79: [847, 37], 82: [847, 37], 88: [847, 37], 89: [847, 37], 97: [847, 37], 105: [592, 37], 107: [592, 37], 110: [1539, 37], 117: [1539, 37], 120: [1539, 37], 131: [847, 37], 133: [710, 37], 136: [588, 10], 139: [1539, 37], 142: [1570, 37], 146: [1570, 37], 155: [1539, 37], 156: [1539, 37], 157: [1539, 37], 158: [1539, 37], 159: [1539, 37], 160: [1539, 37], 161: [1539, 37], 162: [1539, 37], 163: [1539, 37], 164: [1539, 37], 165: [1539, 37], 166: [1539, 37], 167: [1539, 37], 169: [1539, 37], 170: [1539, 37], 100: [535, 27], 102: [535, 27], 122: [153, 0], 126: [137, 0], 132: [137, 0], 134: [122, 27], 148: [31, 0], 149: [31, 0], 150: [31, 0], 151: [31, 0], 152: [31, 0], 153: [31, 0]}\n"
     ]
    }
   ],
   "source": [
    "import sys\n",
    "import os\n",
    "\n",
    "def parse_file(file):\n",
    "    lookup = {}\n",
    "    lines = file.readlines()\n",
    "    for line in lines:\n",
    "        splitted = line.strip().split(\":\", 2)\n",
    "        if len(splitted) < 3:\n",
    "            continue\n",
    "        execs, line_no, statement = splitted\n",
    "        execs = execs.strip()\n",
    "        line_no = line_no.strip()\n",
    "        statement = statement.strip()\n",
    "        \n",
    "        if not execs.isnumeric():\n",
    "            continue\n",
    "        if not line_no.isnumeric():\n",
    "            raise Exception('weird line number')\n",
    "        \n",
    "        execs = int(execs)\n",
    "        line_no = int(line_no)\n",
    "        \n",
    "        if execs <= 0:\n",
    "            raise Exception('line executed 0 times')\n",
    "        \n",
    "        if line_no in lookup:\n",
    "            raise Exception('repeated line number')\n",
    "        \n",
    "        lookup[line_no] = statement\n",
    "    \n",
    "    return lookup\n",
    "\n",
    "passing_dir = \"coverage_output/tcas1_passing\"\n",
    "failing_dir = \"coverage_output/tcas1_failing\"\n",
    "\n",
    "counts = {}\n",
    "statement_lookup = {}\n",
    "\n",
    "for i,dir in [(0,passing_dir), (1,failing_dir)]:\n",
    "    for gcov_file in os.listdir(dir):\n",
    "        file_name = os.path.join(dir, gcov_file)\n",
    "        file = open(file_name)\n",
    "        lookup = parse_file(file)\n",
    "        file.close()\n",
    "        \n",
    "        for line_no in lookup:\n",
    "            if line_no not in counts:\n",
    "                counts[line_no] = [0,0]\n",
    "            \n",
    "            counts[line_no][i] += 1\n",
    "            \n",
    "            if line_no in statement_lookup:\n",
    "                assert statement_lookup[line_no] == lookup[line_no]\n",
    "            else:\n",
    "                statement_lookup[line_no] = lookup[line_no]\n",
    "\n",
    "print(counts)"
   ]
  },
  {
   "cell_type": "code",
   "execution_count": 55,
   "id": "5616fe6c",
   "metadata": {},
   "outputs": [],
   "source": [
    "nodes = graphs[3].nodes\n",
    "mapping = {node: int(node[node.find(\":\")+1:]) for node in nodes}"
   ]
  },
  {
   "cell_type": "code",
   "execution_count": 56,
   "id": "c7e9ab44",
   "metadata": {},
   "outputs": [
    {
     "data": {
      "text/plain": [
       "{'tcas1.c:79': 79,\n",
       " 'tcas1.c:70': 70,\n",
       " 'tcas1.c:73': 73,\n",
       " 'tcas1.c:71': 71,\n",
       " 'tcas1.c:77': 77}"
      ]
     },
     "execution_count": 56,
     "metadata": {},
     "output_type": "execute_result"
    }
   ],
   "source": [
    "mapping"
   ]
  },
  {
   "cell_type": "code",
   "execution_count": 57,
   "id": "2648d005",
   "metadata": {},
   "outputs": [],
   "source": [
    "for i in range(len(graphs)):\n",
    "    nodes = graphs[i].nodes\n",
    "    mapping = {node: int(node[node.find(\":\")+1:]) for node in nodes}\n",
    "    graphs[i] = nx.relabel_nodes(graphs[i], mapping)"
   ]
  },
  {
   "cell_type": "code",
   "execution_count": 58,
   "id": "3b98cec7",
   "metadata": {},
   "outputs": [
    {
     "data": {
      "text/plain": [
       "NodeView((157, 163, 153, 149, 150, 164, 166, 165, 159, 146, 160, 152, 148, 167, 169, 170, 161, 151, 156, 158, 162, 155))"
      ]
     },
     "execution_count": 58,
     "metadata": {},
     "output_type": "execute_result"
    }
   ],
   "source": [
    "graphs[8].nodes"
   ]
  },
  {
   "cell_type": "code",
   "execution_count": 64,
   "id": "e7275291",
   "metadata": {},
   "outputs": [],
   "source": [
    "for i in range(len(graphs)):\n",
    "    for node in graphs[i]:\n",
    "        if node in counts:\n",
    "            graphs[i].nodes[node][\"passing\"] = counts[node][0]\n",
    "            graphs[i].nodes[node][\"failing\"] = counts[node][1]\n",
    "        else:\n",
    "            graphs[i].nodes[node][\"passing\"] = 0\n",
    "            graphs[i].nodes[node][\"failing\"] = 0"
   ]
  },
  {
   "cell_type": "code",
   "execution_count": null,
   "id": "6afd352f",
   "metadata": {},
   "outputs": [],
   "source": []
  }
 ],
 "metadata": {
  "kernelspec": {
   "display_name": ".venv",
   "language": "python",
   "name": "python3"
  },
  "language_info": {
   "codemirror_mode": {
    "name": "ipython",
    "version": 3
   },
   "file_extension": ".py",
   "mimetype": "text/x-python",
   "name": "python",
   "nbconvert_exporter": "python",
   "pygments_lexer": "ipython3",
   "version": "3.12.3"
  }
 },
 "nbformat": 4,
 "nbformat_minor": 5
}
