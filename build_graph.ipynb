{
 "cells": [
  {
   "cell_type": "code",
   "execution_count": 142,
   "id": "dea2f78d",
   "metadata": {},
   "outputs": [],
   "source": [
    "import json\n",
    "import networkx as nx\n",
    "\n",
    "program_name = \"tcas3\"\n",
    "\n",
    "data = json.load(open(f\"/home/vvejalla/centralized-localization/{program_name}_cfg_all_functions.json\"))\n",
    "\n",
    "graphs = []\n",
    "\n",
    "node_to_lines_all = []\n",
    "\n",
    "for entry in data:\n",
    "    G = nx.DiGraph()\n",
    "    node_to_lines = {}\n",
    "    # edge from line i to line j iff there is a single block with i and j adjacent in the block \n",
    "    # or there are two blocks that are connected and \n",
    "    # Add nodes and their line mappings\n",
    "    \n",
    "    lines_set = set()\n",
    "    \n",
    "    \n",
    "    for node, info in entry[\"nodes\"].items():\n",
    "        G.add_node(node)\n",
    "        lines = info.get(\"lines\", [])\n",
    "        node_to_lines[node] = lines\n",
    "        lines_set = lines_set.union(set(lines))\n",
    "\n",
    "    # Add edges\n",
    "    for edge in entry[\"edges\"]:\n",
    "        src, tgt = edge\n",
    "        G.add_edge(src, tgt)\n",
    "    \n",
    "    H = nx.DiGraph()\n",
    "    H.add_nodes_from(lines_set)\n",
    "    for node in G.nodes:\n",
    "        for i in range(1, len(node_to_lines[node])):\n",
    "            H.add_edge(node_to_lines[node][i-1], node_to_lines[node][i])\n",
    "    \n",
    "    for edge in G.edges:\n",
    "        if len(node_to_lines[edge[0]]) > 0 and len(node_to_lines[edge[1]]) > 0:\n",
    "            H.add_edge(node_to_lines[edge[0]][-1], node_to_lines[edge[1]][0])\n",
    "    \n",
    "\n",
    "    graphs.append(H)\n",
    "    # node_to_lines_all.append(node_to_lines)"
   ]
  },
  {
   "cell_type": "code",
   "execution_count": 143,
   "id": "85a521ed",
   "metadata": {},
   "outputs": [
    {
     "data": {
      "text/plain": [
       "NodeView(('tcas3.c:47', 'tcas3.c:82', 'tcas3.c:80', 'tcas3.c:91', 'tcas3.c:63', 'tcas3.c:70', 'tcas3.c:102', 'tcas3.c:106', 'tcas3.c:96', 'tcas3.c:73', 'tcas3.c:62', 'tcas3.c:112', 'tcas3.c:67', 'tcas3.c:104', 'tcas3.c:108', 'tcas3.c:116', 'tcas3.c:45', 'tcas3.c:110', 'tcas3.c:57', 'tcas3.c:59', 'tcas3.c:58', 'tcas3.c:114', 'tcas3.c:49', 'tcas3.c:60', 'tcas3.c:61', 'tcas3.c:85', 'tcas3.c:120', 'tcas3.c:46', 'tcas3.c:93', 'tcas3.c:75', 'tcas3.c:77', 'tcas3.c:53', 'tcas3.c:52', 'tcas3.c:124', 'tcas3.c:54', 'tcas3.c:78', 'tcas3.c:72', 'tcas3.c:66', 'tcas3.c:98', 'tcas3.c:44', 'tcas3.c:65', 'tcas3.c:42', 'tcas3.c:71', 'tcas3.c:125', 'tcas3.c:64', 'tcas3.c:55', 'tcas3.c:81', 'tcas3.c:68', 'tcas3.c:48', 'tcas3.c:87'))"
      ]
     },
     "execution_count": 143,
     "metadata": {},
     "output_type": "execute_result"
    }
   ],
   "source": [
    "graphs[0].nodes"
   ]
  },
  {
   "cell_type": "code",
   "execution_count": 144,
   "id": "48fea433",
   "metadata": {},
   "outputs": [],
   "source": [
    "import sys\n",
    "import os\n",
    "\n",
    "def parse_file(file):\n",
    "    lookup = {}\n",
    "    lines = file.readlines()\n",
    "    for line in lines:\n",
    "        splitted = line.strip().split(\":\", 2)\n",
    "        if len(splitted) < 3:\n",
    "            continue\n",
    "        execs, line_no, statement = splitted\n",
    "        execs = execs.strip()\n",
    "        line_no = line_no.strip()\n",
    "        statement = statement.strip()\n",
    "        execs = execs.strip(\"*\")\n",
    "        execs = execs.strip()\n",
    "        \n",
    "        if not execs.isnumeric():\n",
    "            continue\n",
    "        if not line_no.isnumeric():\n",
    "            raise Exception('weird line number')\n",
    "        \n",
    "        execs = int(execs)\n",
    "        line_no = int(line_no)\n",
    "        \n",
    "        if execs <= 0:\n",
    "            raise Exception('line executed 0 times')\n",
    "        \n",
    "        if line_no in lookup:\n",
    "            raise Exception('repeated line number')\n",
    "        \n",
    "        lookup[line_no] = statement\n",
    "    \n",
    "    return lookup\n",
    "\n",
    "passing_dir = f\"coverage_output/{program_name}_passing\"\n",
    "failing_dir = f\"coverage_output/{program_name}_failing\"\n",
    "\n",
    "counts = {}\n",
    "statement_lookup = {}\n",
    "\n",
    "total_failed = len(os.listdir(failing_dir))\n",
    "\n",
    "for i,dir in [(0,passing_dir), (1,failing_dir)]:\n",
    "    for gcov_file in os.listdir(dir):\n",
    "        file_name = os.path.join(dir, gcov_file)\n",
    "        file = open(file_name)\n",
    "        lookup = parse_file(file)\n",
    "        file.close()\n",
    "        \n",
    "        for line_no in lookup:\n",
    "            if line_no not in counts:\n",
    "                counts[line_no] = [0,0]\n",
    "            \n",
    "            counts[line_no][i] += 1\n",
    "            \n",
    "            if line_no in statement_lookup:\n",
    "                assert statement_lookup[line_no] == lookup[line_no]\n",
    "            else:\n",
    "                statement_lookup[line_no] = lookup[line_no]"
   ]
  },
  {
   "cell_type": "code",
   "execution_count": 145,
   "id": "5616fe6c",
   "metadata": {},
   "outputs": [],
   "source": [
    "nodes = graphs[0].nodes\n",
    "mapping = {node: int(node[node.find(\":\")+1:]) for node in nodes}"
   ]
  },
  {
   "cell_type": "code",
   "execution_count": 146,
   "id": "c7e9ab44",
   "metadata": {},
   "outputs": [
    {
     "data": {
      "text/plain": [
       "{'tcas3.c:47': 47,\n",
       " 'tcas3.c:82': 82,\n",
       " 'tcas3.c:80': 80,\n",
       " 'tcas3.c:91': 91,\n",
       " 'tcas3.c:63': 63,\n",
       " 'tcas3.c:70': 70,\n",
       " 'tcas3.c:102': 102,\n",
       " 'tcas3.c:106': 106,\n",
       " 'tcas3.c:96': 96,\n",
       " 'tcas3.c:73': 73,\n",
       " 'tcas3.c:62': 62,\n",
       " 'tcas3.c:112': 112,\n",
       " 'tcas3.c:67': 67,\n",
       " 'tcas3.c:104': 104,\n",
       " 'tcas3.c:108': 108,\n",
       " 'tcas3.c:116': 116,\n",
       " 'tcas3.c:45': 45,\n",
       " 'tcas3.c:110': 110,\n",
       " 'tcas3.c:57': 57,\n",
       " 'tcas3.c:59': 59,\n",
       " 'tcas3.c:58': 58,\n",
       " 'tcas3.c:114': 114,\n",
       " 'tcas3.c:49': 49,\n",
       " 'tcas3.c:60': 60,\n",
       " 'tcas3.c:61': 61,\n",
       " 'tcas3.c:85': 85,\n",
       " 'tcas3.c:120': 120,\n",
       " 'tcas3.c:46': 46,\n",
       " 'tcas3.c:93': 93,\n",
       " 'tcas3.c:75': 75,\n",
       " 'tcas3.c:77': 77,\n",
       " 'tcas3.c:53': 53,\n",
       " 'tcas3.c:52': 52,\n",
       " 'tcas3.c:124': 124,\n",
       " 'tcas3.c:54': 54,\n",
       " 'tcas3.c:78': 78,\n",
       " 'tcas3.c:72': 72,\n",
       " 'tcas3.c:66': 66,\n",
       " 'tcas3.c:98': 98,\n",
       " 'tcas3.c:44': 44,\n",
       " 'tcas3.c:65': 65,\n",
       " 'tcas3.c:42': 42,\n",
       " 'tcas3.c:71': 71,\n",
       " 'tcas3.c:125': 125,\n",
       " 'tcas3.c:64': 64,\n",
       " 'tcas3.c:55': 55,\n",
       " 'tcas3.c:81': 81,\n",
       " 'tcas3.c:68': 68,\n",
       " 'tcas3.c:48': 48,\n",
       " 'tcas3.c:87': 87}"
      ]
     },
     "execution_count": 146,
     "metadata": {},
     "output_type": "execute_result"
    }
   ],
   "source": [
    "mapping"
   ]
  },
  {
   "cell_type": "code",
   "execution_count": 147,
   "id": "2648d005",
   "metadata": {},
   "outputs": [],
   "source": [
    "for i in range(len(graphs)):\n",
    "    nodes = graphs[i].nodes\n",
    "    mapping = {node: int(node[node.find(\":\")+1:]) for node in nodes}\n",
    "    graphs[i] = nx.relabel_nodes(graphs[i], mapping)"
   ]
  },
  {
   "cell_type": "code",
   "execution_count": 148,
   "id": "e7275291",
   "metadata": {},
   "outputs": [],
   "source": [
    "for i in range(len(graphs)):\n",
    "    for node in graphs[i]:\n",
    "        if node in counts:\n",
    "            if counts[node][0] + total_failed - counts[node][1] == 0:\n",
    "                graphs[i].nodes[node][\"score\"] = counts[node][1]**2/0.5\n",
    "            else:\n",
    "                graphs[i].nodes[node][\"score\"] = counts[node][1]**2/(counts[node][0] + total_failed - counts[node][1])\n",
    "            graphs[i].nodes[node][\"passing\"] = counts[node][0]\n",
    "            graphs[i].nodes[node][\"failing\"] = counts[node][1]\n",
    "        else:\n",
    "            graphs[i].nodes[node][\"score\"] = 0\n",
    "            graphs[i].nodes[node][\"passing\"] = 0\n",
    "            graphs[i].nodes[node][\"failing\"] = 0"
   ]
  },
  {
   "cell_type": "code",
   "execution_count": 149,
   "id": "f30d54bb",
   "metadata": {},
   "outputs": [
    {
     "data": {
      "image/png": "[encoded data removed]",
      "text/plain": [
       "<Figure size 640x480 with 1 Axes>"
      ]
     },
     "metadata": {},
     "output_type": "display_data"
    }
   ],
   "source": [
    "nx.draw(graphs[0])"
   ]
  },
  {
   "cell_type": "code",
   "execution_count": 150,
   "id": "6afd352f",
   "metadata": {},
   "outputs": [],
   "source": [
    "import numpy as np"
   ]
  },
  {
   "cell_type": "code",
   "execution_count": 151,
   "id": "7f92e55e",
   "metadata": {},
   "outputs": [],
   "source": [
    "def inverse_sqrt_degree_matrix(D):\n",
    "    d = np.diag(D)\n",
    "    d_inv_sqrt = np.zeros_like(d)\n",
    "    nonzero_mask = d > 0\n",
    "    d_inv_sqrt[nonzero_mask] = 1.0 / np.sqrt(d[nonzero_mask])\n",
    "    return np.diag(d_inv_sqrt)"
   ]
  },
  {
   "cell_type": "code",
   "execution_count": 152,
   "id": "18e60453",
   "metadata": {},
   "outputs": [],
   "source": [
    "graph = graphs[0]\n",
    "\n",
    "\n",
    "index_to_line = list(graph.nodes)\n",
    "suspiciousness = [graph.nodes[index_to_line[i]][\"score\"] for i in range(len(index_to_line))]\n",
    "line_to_index = {}\n",
    "for i, line in enumerate(index_to_line):\n",
    "    line_to_index[line] = i\n",
    "\n",
    "suspiciousness = np.array(suspiciousness).reshape((-1,1))\n",
    "adjacency_matrix = np.zeros((len(index_to_line), len(index_to_line)))\n",
    "\n",
    "for edge in graph.edges:\n",
    "    adjacency_matrix[line_to_index[edge[0]], line_to_index[edge[1]]] = 1\n",
    "\n",
    "adj_matrix = adjacency_matrix.copy()\n",
    "\n",
    "for i in range(adjacency_matrix.shape[0]):\n",
    "    if adj_matrix[i].sum() == 0:\n",
    "        adj_matrix[i][i] = 1\n",
    "\n",
    "adj_matrix/= adj_matrix.sum(axis=1,keepdims=1)\n",
    "\n",
    "alpha = 0.5\n",
    "flow = (1-alpha)*suspiciousness + alpha*adj_matrix@suspiciousness\n",
    "\n",
    "augmented = adjacency_matrix + np.eye(adjacency_matrix.shape[0])\n",
    "D_in = np.diag(np.sum(augmented, axis=0))\n",
    "D_out = np.diag(np.sum(augmented, axis=1))\n",
    "\n",
    "in_suspiciousness = inverse_sqrt_degree_matrix(D_in) @ augmented @ inverse_sqrt_degree_matrix(D_in) @ suspiciousness\n",
    "out_suspiciousness = inverse_sqrt_degree_matrix(D_out) @ augmented @ inverse_sqrt_degree_matrix(D_out) @ suspiciousness"
   ]
  },
  {
   "cell_type": "code",
   "execution_count": null,
   "id": "50686076",
   "metadata": {},
   "outputs": [],
   "source": []
  },
  {
   "cell_type": "code",
   "execution_count": 153,
   "id": "7aa3f85c",
   "metadata": {},
   "outputs": [],
   "source": [
    "centrality = nx.in_degree_centrality(graph)\n",
    "for node in graph.nodes:\n",
    "    centrality[node] *= graph.nodes[node][\"score\"]"
   ]
  },
  {
   "cell_type": "code",
   "execution_count": null,
   "id": "34484fa6",
   "metadata": {},
   "outputs": [
    {
     "name": "stdout",
     "output_type": "stream",
     "text": [
      "suspiciousness: min_rank = 0, max_rank = 1\n",
      "flow: min_rank = 0, max_rank = 1\n",
      "in_suspiciousness: min_rank = 2, max_rank = 3\n",
      "out_suspiciousness: min_rank = 0, max_rank = 1\n",
      "in_deg_centrality: min_rank = 5, max_rank = 6\n",
      "out_deg_centrality: min_rank = 9, max_rank = 10\n",
      "pagerank_centrality: min_rank = 9, max_rank = 9\n",
      "betweenness_centrality: min_rank = 20, max_rank = 20\n",
      "closeness_centrality: min_rank = 0, max_rank = 0\n"
     ]
    }
   ],
   "source": [
    "import numpy as np\n",
    "import networkx as nx\n",
    "\n",
    "def get_rank_bounds(score_list, target_node):\n",
    "    score_list.sort(key=lambda s: (-s[0], s[1]))  # sort descending, then by node id\n",
    "    target_score = None\n",
    "    for score, node in score_list:\n",
    "        if node == target_node:\n",
    "            target_score = score\n",
    "            break\n",
    "    min_rank = float('inf')\n",
    "    max_rank = -1\n",
    "    for i, (score, node) in enumerate(score_list):\n",
    "        if abs(score - target_score) < 1e-6:\n",
    "            min_rank = min(min_rank, i)\n",
    "            max_rank = max(max_rank, i)\n",
    "    return min_rank, max_rank\n",
    "\n",
    "# Mapping from node index to id\n",
    "index_to_line = list(graph.nodes)\n",
    "line_to_index = {line: i for i, line in enumerate(index_to_line)}\n",
    "\n",
    "# Convert suspiciousness-related vectors to dicts\n",
    "suspiciousness_vec = suspiciousness.flatten()\n",
    "flow_vec = flow.flatten()\n",
    "in_susp_vec = in_suspiciousness.flatten()\n",
    "out_susp_vec = out_suspiciousness.flatten()\n",
    "\n",
    "suspiciousness_dict = {index_to_line[i]: suspiciousness_vec[i] for i in range(len(index_to_line))}\n",
    "flow_dict = {index_to_line[i]: flow_vec[i] for i in range(len(index_to_line))}\n",
    "in_susp_dict = {index_to_line[i]: in_susp_vec[i] for i in range(len(index_to_line))}\n",
    "out_susp_dict = {index_to_line[i]: out_susp_vec[i] for i in range(len(index_to_line))}\n",
    "\n",
    "# Centralities\n",
    "in_deg_centrality = nx.in_degree_centrality(graph)\n",
    "out_deg_centrality = nx.out_degree_centrality(graph)\n",
    "pagerank_centrality = nx.pagerank(graph)\n",
    "betweenness_centrality = nx.betweenness_centrality(graph)\n",
    "# eigenvector_centrality = nx.eigenvector_centrality(graph)\n",
    "closeness_centrality = nx.closeness_centrality(graph)\n",
    "\n",
    "# Multiply node scores by centralities\n",
    "def weighted_centrality(centrality_dict):\n",
    "    return {node: graph.nodes[node][\"score\"] * centrality_dict.get(node, 0) for node in graph.nodes}\n",
    "\n",
    "metrics = {\n",
    "    \"suspiciousness\": suspiciousness_dict,\n",
    "    \"flow\": flow_dict,\n",
    "    \"in_suspiciousness\": in_susp_dict,\n",
    "    \"out_suspiciousness\": out_susp_dict,\n",
    "    \"in_deg_centrality\": weighted_centrality(in_deg_centrality),\n",
    "    \"out_deg_centrality\": weighted_centrality(out_deg_centrality),\n",
    "    \"pagerank_centrality\": weighted_centrality(pagerank_centrality),\n",
    "    \"betweenness_centrality\": weighted_centrality(betweenness_centrality),\n",
    "    \"closeness_centrality\": weighted_centrality(closeness_centrality),\n",
    "    # \"eigenvector_centrality\": weighted_centrality(eigenvector_centrality),\n",
    "}\n",
    "\n",
    "actual_bad_line = 102\n",
    "\n",
    "# Compute and print rank bounds for each metric\n",
    "for name, score_dict in metrics.items():\n",
    "    L = [(score_dict[node], node) for node in graph.nodes]\n",
    "    min_rank, max_rank = get_rank_bounds(L, actual_bad_line)\n",
    "    print(f\"{name}: min_rank = {min_rank+1}, max_rank = {max_rank+1}\")\n"
   ]
  },
  {
   "cell_type": "markdown",
   "id": "218afe05",
   "metadata": {},
   "source": []
  }
 ],
 "metadata": {
  "kernelspec": {
   "display_name": ".venv",
   "language": "python",
   "name": "python3"
  },
  "language_info": {
   "codemirror_mode": {
    "name": "ipython",
    "version": 3
   },
   "file_extension": ".py",
   "mimetype": "text/x-python",
   "name": "python",
   "nbconvert_exporter": "python",
   "pygments_lexer": "ipython3",
   "version": "3.12.3"
  }
 },
 "nbformat": 4,
 "nbformat_minor": 5
}
