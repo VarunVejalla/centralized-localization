{
 "cells": [
  {
   "cell_type": "code",
   "execution_count": 1,
   "id": "dea2f78d",
   "metadata": {},
   "outputs": [],
   "source": [
    "import json\n",
    "import networkx as nx\n",
    "\n",
    "data = json.load(open(\"/home/vvejalla/centralized-localization/tcas1_cfg_all_functions.json\"))\n",
    "\n",
    "graphs = []\n",
    "\n",
    "node_to_lines_all = []\n",
    "\n",
    "for entry in data:\n",
    "    G = nx.DiGraph()\n",
    "    node_to_lines = {}\n",
    "    # edge from line i to line j iff there is a single block with i and j adjacent in the block \n",
    "    # or there are two blocks that are connected and \n",
    "    # Add nodes and their line mappings\n",
    "    \n",
    "    lines_set = set()\n",
    "    \n",
    "    \n",
    "    for node, info in entry[\"nodes\"].items():\n",
    "        G.add_node(node)\n",
    "        lines = info.get(\"lines\", [])\n",
    "        node_to_lines[node] = lines\n",
    "        lines_set = lines_set.union(set(lines))\n",
    "\n",
    "    # Add edges\n",
    "    for edge in entry[\"edges\"]:\n",
    "        src, tgt = edge\n",
    "        G.add_edge(src, tgt)\n",
    "    \n",
    "    H = nx.DiGraph()\n",
    "    H.add_nodes_from(lines_set)\n",
    "    for node in G.nodes:\n",
    "        for i in range(1, len(node_to_lines[node])):\n",
    "            H.add_edge(node_to_lines[node][i-1], node_to_lines[node][i])\n",
    "    \n",
    "    for edge in G.edges:\n",
    "        if len(node_to_lines[edge[0]]) > 0 and len(node_to_lines[edge[1]]) > 0:\n",
    "            H.add_edge(node_to_lines[edge[0]][-1], node_to_lines[edge[1]][0])\n",
    "    \n",
    "\n",
    "    graphs.append(H)\n",
    "    # node_to_lines_all.append(node_to_lines)"
   ]
  },
  {
   "cell_type": "code",
   "execution_count": 3,
   "id": "48fea433",
   "metadata": {},
   "outputs": [
    {
     "name": "stdout",
     "output_type": "stream",
     "text": [
      "{41: [1568, 37], 55: [1568, 37], 65: [1539, 37], 66: [1539, 37], 67: [1539, 37], 68: [1539, 37], 70: [1539, 37], 71: [1539, 37], 72: [1539, 37], 73: [1539, 37], 74: [1539, 37], 75: [1539, 37], 76: [1539, 37], 77: [1539, 37], 78: [1539, 37], 79: [1539, 37], 80: [1539, 37], 81: [1539, 37], 84: [1539, 37], 87: [1539, 37], 90: [1539, 37], 91: [1539, 37], 94: [1539, 37], 97: [788, 37], 98: [1539, 37], 104: [788, 37], 108: [1539, 37], 114: [788, 37], 118: [1539, 37], 119: [1539, 37], 120: [1539, 37], 122: [1539, 37], 124: [1539, 37], 126: [847, 37], 127: [847, 37], 128: [847, 37], 133: [847, 37], 135: [710, 37], 138: [588, 10], 141: [1539, 37], 142: [1539, 37], 95: [751, 0], 100: [751, 0], 110: [751, 0], 134: [137, 0], 136: [122, 27], 57: [29, 0], 58: [29, 0], 59: [29, 0], 60: [29, 0], 61: [29, 0], 62: [29, 0]}\n"
     ]
    }
   ],
   "source": [
    "import sys\n",
    "import os\n",
    "\n",
    "def parse_file(file):\n",
    "    lookup = {}\n",
    "    lines = file.readlines()\n",
    "    for line in lines:\n",
    "        splitted = line.strip().split(\":\", 2)\n",
    "        if len(splitted) < 3:\n",
    "            continue\n",
    "        execs, line_no, statement = splitted\n",
    "        execs = execs.strip()\n",
    "        line_no = line_no.strip()\n",
    "        statement = statement.strip()\n",
    "        execs = execs.strip(\"*\")\n",
    "        execs = execs.strip()\n",
    "        \n",
    "        if not execs.isnumeric():\n",
    "            continue\n",
    "        if not line_no.isnumeric():\n",
    "            raise Exception('weird line number')\n",
    "        \n",
    "        execs = int(execs)\n",
    "        line_no = int(line_no)\n",
    "        \n",
    "        if execs <= 0:\n",
    "            raise Exception('line executed 0 times')\n",
    "        \n",
    "        if line_no in lookup:\n",
    "            raise Exception('repeated line number')\n",
    "        \n",
    "        lookup[line_no] = statement\n",
    "    \n",
    "    return lookup\n",
    "\n",
    "passing_dir = \"coverage_output/tcas1_passing\"\n",
    "failing_dir = \"coverage_output/tcas1_failing\"\n",
    "\n",
    "counts = {}\n",
    "statement_lookup = {}\n",
    "\n",
    "total_failed = len(os.listdir(failing_dir))\n",
    "\n",
    "for i,dir in [(0,passing_dir), (1,failing_dir)]:\n",
    "    for gcov_file in os.listdir(dir):\n",
    "        file_name = os.path.join(dir, gcov_file)\n",
    "        file = open(file_name)\n",
    "        lookup = parse_file(file)\n",
    "        file.close()\n",
    "        \n",
    "        for line_no in lookup:\n",
    "            if line_no not in counts:\n",
    "                counts[line_no] = [0,0]\n",
    "            \n",
    "            counts[line_no][i] += 1\n",
    "            \n",
    "            if line_no in statement_lookup:\n",
    "                assert statement_lookup[line_no] == lookup[line_no]\n",
    "            else:\n",
    "                statement_lookup[line_no] = lookup[line_no]\n",
    "\n",
    "print(counts)"
   ]
  },
  {
   "cell_type": "code",
   "execution_count": 4,
   "id": "5616fe6c",
   "metadata": {},
   "outputs": [],
   "source": [
    "nodes = graphs[0].nodes\n",
    "mapping = {node: int(node[node.find(\":\")+1:]) for node in nodes}"
   ]
  },
  {
   "cell_type": "code",
   "execution_count": 5,
   "id": "c7e9ab44",
   "metadata": {},
   "outputs": [
    {
     "data": {
      "text/plain": [
       "{'tcas1.c:122': 122,\n",
       " 'tcas1.c:78': 78,\n",
       " 'tcas1.c:61': 61,\n",
       " 'tcas1.c:126': 126,\n",
       " 'tcas1.c:73': 73,\n",
       " 'tcas1.c:98': 98,\n",
       " 'tcas1.c:67': 67,\n",
       " 'tcas1.c:62': 62,\n",
       " 'tcas1.c:108': 108,\n",
       " 'tcas1.c:59': 59,\n",
       " 'tcas1.c:65': 65,\n",
       " 'tcas1.c:87': 87,\n",
       " 'tcas1.c:100': 100,\n",
       " 'tcas1.c:119': 119,\n",
       " 'tcas1.c:142': 142,\n",
       " 'tcas1.c:97': 97,\n",
       " 'tcas1.c:135': 135,\n",
       " 'tcas1.c:104': 104,\n",
       " 'tcas1.c:128': 128,\n",
       " 'tcas1.c:138': 138,\n",
       " 'tcas1.c:58': 58,\n",
       " 'tcas1.c:77': 77,\n",
       " 'tcas1.c:91': 91,\n",
       " 'tcas1.c:136': 136,\n",
       " 'tcas1.c:81': 81,\n",
       " 'tcas1.c:74': 74,\n",
       " 'tcas1.c:133': 133,\n",
       " 'tcas1.c:79': 79,\n",
       " 'tcas1.c:60': 60,\n",
       " 'tcas1.c:68': 68,\n",
       " 'tcas1.c:141': 141,\n",
       " 'tcas1.c:110': 110,\n",
       " 'tcas1.c:95': 95,\n",
       " 'tcas1.c:132': 132,\n",
       " 'tcas1.c:70': 70,\n",
       " 'tcas1.c:66': 66,\n",
       " 'tcas1.c:127': 127,\n",
       " 'tcas1.c:75': 75,\n",
       " 'tcas1.c:124': 124,\n",
       " 'tcas1.c:55': 55,\n",
       " 'tcas1.c:134': 134,\n",
       " 'tcas1.c:94': 94,\n",
       " 'tcas1.c:120': 120,\n",
       " 'tcas1.c:71': 71,\n",
       " 'tcas1.c:84': 84,\n",
       " 'tcas1.c:80': 80,\n",
       " 'tcas1.c:57': 57,\n",
       " 'tcas1.c:118': 118,\n",
       " 'tcas1.c:90': 90,\n",
       " 'tcas1.c:76': 76,\n",
       " 'tcas1.c:114': 114,\n",
       " 'tcas1.c:72': 72}"
      ]
     },
     "execution_count": 5,
     "metadata": {},
     "output_type": "execute_result"
    }
   ],
   "source": [
    "mapping"
   ]
  },
  {
   "cell_type": "code",
   "execution_count": 6,
   "id": "2648d005",
   "metadata": {},
   "outputs": [],
   "source": [
    "for i in range(len(graphs)):\n",
    "    nodes = graphs[i].nodes\n",
    "    mapping = {node: int(node[node.find(\":\")+1:]) for node in nodes}\n",
    "    graphs[i] = nx.relabel_nodes(graphs[i], mapping)"
   ]
  },
  {
   "cell_type": "code",
   "execution_count": 7,
   "id": "e7275291",
   "metadata": {},
   "outputs": [],
   "source": [
    "for i in range(len(graphs)):\n",
    "    for node in graphs[i]:\n",
    "        if node in counts:\n",
    "            if counts[node][0] + total_failed - counts[node][1] == 0:\n",
    "                graphs[i].nodes[node][\"score\"] = counts[node][1]**2/0.5\n",
    "            else:\n",
    "                graphs[i].nodes[node][\"score\"] = counts[node][1]**2/(counts[node][0] + total_failed - counts[node][1])\n",
    "            graphs[i].nodes[node][\"passing\"] = counts[node][0]\n",
    "            graphs[i].nodes[node][\"failing\"] = counts[node][1]\n",
    "        else:\n",
    "            graphs[i].nodes[node][\"score\"] = 0\n",
    "            graphs[i].nodes[node][\"passing\"] = 0\n",
    "            graphs[i].nodes[node][\"failing\"] = 0"
   ]
  },
  {
   "cell_type": "code",
   "execution_count": 8,
   "id": "f30d54bb",
   "metadata": {},
   "outputs": [
    {
     "data": {
      "image/png": "[encoded data removed]",
      "text/plain": [
       "<Figure size 640x480 with 1 Axes>"
      ]
     },
     "metadata": {},
     "output_type": "display_data"
    }
   ],
   "source": [
    "nx.draw(graphs[0])"
   ]
  },
  {
   "cell_type": "code",
   "execution_count": 9,
   "id": "6afd352f",
   "metadata": {},
   "outputs": [],
   "source": [
    "import numpy as np"
   ]
  },
  {
   "cell_type": "code",
   "execution_count": 10,
   "id": "7f92e55e",
   "metadata": {},
   "outputs": [],
   "source": [
    "def inverse_sqrt_degree_matrix(D):\n",
    "    d = np.diag(D)\n",
    "    d_inv_sqrt = np.zeros_like(d)\n",
    "    nonzero_mask = d > 0\n",
    "    d_inv_sqrt[nonzero_mask] = 1.0 / np.sqrt(d[nonzero_mask])\n",
    "    return np.diag(d_inv_sqrt)"
   ]
  },
  {
   "cell_type": "code",
   "execution_count": 11,
   "id": "18e60453",
   "metadata": {},
   "outputs": [],
   "source": [
    "graph = graphs[0]\n",
    "\n",
    "\n",
    "index_to_line = list(graph.nodes)\n",
    "suspiciousness = [graph.nodes[index_to_line[i]][\"score\"] for i in range(len(index_to_line))]\n",
    "line_to_index = {}\n",
    "for i, line in enumerate(index_to_line):\n",
    "    line_to_index[line] = i\n",
    "\n",
    "suspiciousness = np.array(suspiciousness).reshape((-1,1))\n",
    "adjacency_matrix = np.zeros((len(index_to_line), len(index_to_line)))\n",
    "\n",
    "for edge in graph.edges:\n",
    "    adjacency_matrix[line_to_index[edge[0]], line_to_index[edge[1]]] = 1\n",
    "\n",
    "adj_matrix = adjacency_matrix.copy()\n",
    "\n",
    "for i in range(adjacency_matrix.shape[0]):\n",
    "    if adj_matrix[i].sum() == 0:\n",
    "        adj_matrix[i][i] = 1\n",
    "\n",
    "adj_matrix/= adj_matrix.sum(axis=1,keepdims=1)\n",
    "\n",
    "alpha = 0.1\n",
    "flow = (1-alpha)*suspiciousness + alpha*adj_matrix@suspiciousness\n",
    "\n",
    "augmented = adjacency_matrix + np.eye(adjacency_matrix.shape[0])\n",
    "D_in = np.diag(np.sum(augmented, axis=0))\n",
    "D_out = np.diag(np.sum(augmented, axis=1))\n",
    "\n",
    "in_suspiciousness = inverse_sqrt_degree_matrix(D_in) @ augmented @ inverse_sqrt_degree_matrix(D_in) @ suspiciousness\n",
    "out_suspiciousness = inverse_sqrt_degree_matrix(D_out) @ augmented @ inverse_sqrt_degree_matrix(D_out) @ suspiciousness"
   ]
  },
  {
   "cell_type": "code",
   "execution_count": 12,
   "id": "6edac354",
   "metadata": {},
   "outputs": [
    {
     "name": "stdout",
     "output_type": "stream",
     "text": [
      "[(5.5227272727272725, 136), (1.9281690140845071, 135), (1.7373096446700507, 114), (1.7373096446700507, 104), (1.7373096446700507, 97), (1.61629279811098, 133), (1.61629279811098, 128), (1.61629279811098, 127), (1.61629279811098, 126), (0.889538661468486, 142), (0.889538661468486, 141), (0.889538661468486, 124), (0.889538661468486, 122), (0.889538661468486, 120), (0.889538661468486, 119), (0.889538661468486, 118), (0.889538661468486, 108), (0.889538661468486, 98), (0.889538661468486, 94), (0.889538661468486, 91), (0.889538661468486, 90), (0.889538661468486, 87), (0.889538661468486, 84), (0.889538661468486, 81), (0.889538661468486, 80), (0.889538661468486, 79), (0.889538661468486, 78), (0.889538661468486, 77), (0.889538661468486, 76), (0.889538661468486, 75), (0.889538661468486, 74), (0.889538661468486, 73), (0.889538661468486, 72), (0.889538661468486, 71), (0.889538661468486, 70), (0.889538661468486, 68), (0.889538661468486, 67), (0.889538661468486, 66), (0.889538661468486, 65), (0.8730867346938775, 55), (0.16260162601626016, 138), (0.0, 134), (0.0, 132), (0.0, 110), (0.0, 100), (0.0, 95), (0.0, 62), (0.0, 61), (0.0, 60), (0.0, 59), (0.0, 58), (0.0, 57)]\n"
     ]
    }
   ],
   "source": [
    "L1 = suspiciousness.T.tolist()[0]\n",
    "L1 = [(m,index_to_line[i]) for i,m in enumerate(L1)]\n",
    "L1.sort(reverse = True)\n",
    "print(L1)"
   ]
  },
  {
   "cell_type": "code",
   "execution_count": 13,
   "id": "f8f079b6",
   "metadata": {},
   "outputs": [
    {
     "name": "stdout",
     "output_type": "stream",
     "text": [
      "136\n",
      "136\n",
      "136\n",
      "135\n"
     ]
    }
   ],
   "source": [
    "print(index_to_line[suspiciousness.argmax()])\n",
    "print(index_to_line[flow.argmax()])\n",
    "print(index_to_line[out_suspiciousness.argmax()])\n",
    "print(index_to_line[in_suspiciousness.argmax()])"
   ]
  },
  {
   "cell_type": "markdown",
   "id": "218afe05",
   "metadata": {},
   "source": []
  },
  {
   "cell_type": "code",
   "execution_count": null,
   "id": "c36eca21",
   "metadata": {},
   "outputs": [],
   "source": [
    "flow"
   ]
  },
  {
   "cell_type": "code",
   "execution_count": null,
   "id": "6b83da54",
   "metadata": {},
   "outputs": [],
   "source": [
    "suspiciousness"
   ]
  },
  {
   "cell_type": "code",
   "execution_count": null,
   "id": "99fac042",
   "metadata": {},
   "outputs": [],
   "source": []
  },
  {
   "cell_type": "code",
   "execution_count": null,
   "id": "e9b53be8",
   "metadata": {},
   "outputs": [],
   "source": [
    "alpha = 0.1\n"
   ]
  },
  {
   "cell_type": "code",
   "execution_count": null,
   "id": "97d43d61",
   "metadata": {},
   "outputs": [],
   "source": [
    "suspiciousness"
   ]
  },
  {
   "cell_type": "code",
   "execution_count": null,
   "id": "65e96698",
   "metadata": {},
   "outputs": [],
   "source": []
  }
 ],
 "metadata": {
  "kernelspec": {
   "display_name": ".venv",
   "language": "python",
   "name": "python3"
  },
  "language_info": {
   "codemirror_mode": {
    "name": "ipython",
    "version": 3
   },
   "file_extension": ".py",
   "mimetype": "text/x-python",
   "name": "python",
   "nbconvert_exporter": "python",
   "pygments_lexer": "ipython3",
   "version": "3.12.3"
  }
 },
 "nbformat": 4,
 "nbformat_minor": 5
}
