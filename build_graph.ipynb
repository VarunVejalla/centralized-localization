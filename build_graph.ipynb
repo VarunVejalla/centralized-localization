{
 "cells": [
  {
   "cell_type": "code",
   "execution_count": 1,
   "id": "dea2f78d",
   "metadata": {},
   "outputs": [],
   "source": [
    "import json\n",
    "import networkx as nx\n",
    "\n",
    "program_name = \"tcas1\"\n",
    "\n",
    "data = json.load(open(f\"/home/vvejalla/centralized-localization/{program_name}_cfg_all_functions.json\"))\n",
    "\n",
    "graphs = []\n",
    "\n",
    "node_to_lines_all = []\n",
    "\n",
    "for entry in data:\n",
    "    G = nx.DiGraph()\n",
    "    node_to_lines = {}\n",
    "    # edge from line i to line j iff there is a single block with i and j adjacent in the block \n",
    "    # or there are two blocks that are connected and \n",
    "    # Add nodes and their line mappings\n",
    "    \n",
    "    lines_set = set()\n",
    "    \n",
    "    \n",
    "    for node, info in entry[\"nodes\"].items():\n",
    "        G.add_node(node)\n",
    "        lines = info.get(\"lines\", [])\n",
    "        node_to_lines[node] = lines\n",
    "        lines_set = lines_set.union(set(lines))\n",
    "\n",
    "    # Add edges\n",
    "    for edge in entry[\"edges\"]:\n",
    "        src, tgt = edge\n",
    "        G.add_edge(src, tgt)\n",
    "    \n",
    "    H = nx.DiGraph()\n",
    "    H.add_nodes_from(lines_set)\n",
    "    for node in G.nodes:\n",
    "        for i in range(1, len(node_to_lines[node])):\n",
    "            H.add_edge(node_to_lines[node][i-1], node_to_lines[node][i])\n",
    "    \n",
    "    for edge in G.edges:\n",
    "        if len(node_to_lines[edge[0]]) > 0 and len(node_to_lines[edge[1]]) > 0:\n",
    "            H.add_edge(node_to_lines[edge[0]][-1], node_to_lines[edge[1]][0])\n",
    "    \n",
    "\n",
    "    graphs.append(H)\n",
    "    # node_to_lines_all.append(node_to_lines)"
   ]
  },
  {
   "cell_type": "code",
   "execution_count": 2,
   "id": "48fea433",
   "metadata": {},
   "outputs": [
    {
     "name": "stdout",
     "output_type": "stream",
     "text": [
      "{41: [1568, 37], 55: [1568, 37], 65: [1539, 37], 66: [1539, 37], 67: [1539, 37], 68: [1539, 37], 70: [1539, 37], 71: [1539, 37], 72: [1539, 37], 73: [1539, 37], 74: [1539, 37], 75: [1539, 37], 76: [1539, 37], 77: [1539, 37], 78: [1539, 37], 79: [1539, 37], 80: [1539, 37], 81: [1539, 37], 84: [1539, 37], 87: [1539, 37], 90: [1539, 37], 91: [1539, 37], 94: [1539, 37], 97: [788, 37], 98: [1539, 37], 104: [788, 37], 108: [1539, 37], 114: [788, 37], 118: [1539, 37], 119: [1539, 37], 120: [1539, 37], 122: [1539, 37], 124: [1539, 37], 126: [847, 37], 127: [847, 37], 128: [847, 37], 133: [847, 37], 135: [710, 37], 138: [588, 10], 141: [1539, 37], 142: [1539, 37], 95: [751, 0], 100: [751, 0], 110: [751, 0], 134: [137, 0], 136: [122, 27], 57: [29, 0], 58: [29, 0], 59: [29, 0], 60: [29, 0], 61: [29, 0], 62: [29, 0]}\n"
     ]
    }
   ],
   "source": [
    "import sys\n",
    "import os\n",
    "\n",
    "def parse_file(file):\n",
    "    lookup = {}\n",
    "    lines = file.readlines()\n",
    "    for line in lines:\n",
    "        splitted = line.strip().split(\":\", 2)\n",
    "        if len(splitted) < 3:\n",
    "            continue\n",
    "        execs, line_no, statement = splitted\n",
    "        execs = execs.strip()\n",
    "        line_no = line_no.strip()\n",
    "        statement = statement.strip()\n",
    "        execs = execs.strip(\"*\")\n",
    "        execs = execs.strip()\n",
    "        \n",
    "        if not execs.isnumeric():\n",
    "            continue\n",
    "        if not line_no.isnumeric():\n",
    "            raise Exception('weird line number')\n",
    "        \n",
    "        execs = int(execs)\n",
    "        line_no = int(line_no)\n",
    "        \n",
    "        if execs <= 0:\n",
    "            raise Exception('line executed 0 times')\n",
    "        \n",
    "        if line_no in lookup:\n",
    "            raise Exception('repeated line number')\n",
    "        \n",
    "        lookup[line_no] = statement\n",
    "    \n",
    "    return lookup\n",
    "\n",
    "passing_dir = f\"coverage_output/{program_name}_passing\"\n",
    "failing_dir = f\"coverage_output/{program_name}_failing\"\n",
    "\n",
    "counts = {}\n",
    "statement_lookup = {}\n",
    "\n",
    "total_failed = len(os.listdir(failing_dir))\n",
    "\n",
    "for i,dir in [(0,passing_dir), (1,failing_dir)]:\n",
    "    for gcov_file in os.listdir(dir):\n",
    "        file_name = os.path.join(dir, gcov_file)\n",
    "        file = open(file_name)\n",
    "        lookup = parse_file(file)\n",
    "        file.close()\n",
    "        \n",
    "        for line_no in lookup:\n",
    "            if line_no not in counts:\n",
    "                counts[line_no] = [0,0]\n",
    "            \n",
    "            counts[line_no][i] += 1\n",
    "            \n",
    "            if line_no in statement_lookup:\n",
    "                assert statement_lookup[line_no] == lookup[line_no]\n",
    "            else:\n",
    "                statement_lookup[line_no] = lookup[line_no]\n",
    "\n",
    "print(counts)"
   ]
  },
  {
   "cell_type": "code",
   "execution_count": 3,
   "id": "5616fe6c",
   "metadata": {},
   "outputs": [],
   "source": [
    "nodes = graphs[0].nodes\n",
    "mapping = {node: int(node[node.find(\":\")+1:]) for node in nodes}"
   ]
  },
  {
   "cell_type": "code",
   "execution_count": 4,
   "id": "c7e9ab44",
   "metadata": {},
   "outputs": [
    {
     "data": {
      "text/plain": [
       "{'tcas1.c:118': 118,\n",
       " 'tcas1.c:141': 141,\n",
       " 'tcas1.c:81': 81,\n",
       " 'tcas1.c:55': 55,\n",
       " 'tcas1.c:66': 66,\n",
       " 'tcas1.c:75': 75,\n",
       " 'tcas1.c:79': 79,\n",
       " 'tcas1.c:84': 84,\n",
       " 'tcas1.c:80': 80,\n",
       " 'tcas1.c:73': 73,\n",
       " 'tcas1.c:67': 67,\n",
       " 'tcas1.c:59': 59,\n",
       " 'tcas1.c:128': 128,\n",
       " 'tcas1.c:136': 136,\n",
       " 'tcas1.c:58': 58,\n",
       " 'tcas1.c:110': 110,\n",
       " 'tcas1.c:127': 127,\n",
       " 'tcas1.c:104': 104,\n",
       " 'tcas1.c:90': 90,\n",
       " 'tcas1.c:135': 135,\n",
       " 'tcas1.c:134': 134,\n",
       " 'tcas1.c:108': 108,\n",
       " 'tcas1.c:126': 126,\n",
       " 'tcas1.c:138': 138,\n",
       " 'tcas1.c:60': 60,\n",
       " 'tcas1.c:100': 100,\n",
       " 'tcas1.c:62': 62,\n",
       " 'tcas1.c:72': 72,\n",
       " 'tcas1.c:77': 77,\n",
       " 'tcas1.c:61': 61,\n",
       " 'tcas1.c:119': 119,\n",
       " 'tcas1.c:70': 70,\n",
       " 'tcas1.c:114': 114,\n",
       " 'tcas1.c:68': 68,\n",
       " 'tcas1.c:94': 94,\n",
       " 'tcas1.c:65': 65,\n",
       " 'tcas1.c:95': 95,\n",
       " 'tcas1.c:98': 98,\n",
       " 'tcas1.c:74': 74,\n",
       " 'tcas1.c:57': 57,\n",
       " 'tcas1.c:122': 122,\n",
       " 'tcas1.c:76': 76,\n",
       " 'tcas1.c:78': 78,\n",
       " 'tcas1.c:71': 71,\n",
       " 'tcas1.c:124': 124,\n",
       " 'tcas1.c:97': 97,\n",
       " 'tcas1.c:133': 133,\n",
       " 'tcas1.c:132': 132,\n",
       " 'tcas1.c:91': 91,\n",
       " 'tcas1.c:142': 142,\n",
       " 'tcas1.c:87': 87,\n",
       " 'tcas1.c:120': 120}"
      ]
     },
     "execution_count": 4,
     "metadata": {},
     "output_type": "execute_result"
    }
   ],
   "source": [
    "mapping"
   ]
  },
  {
   "cell_type": "code",
   "execution_count": 5,
   "id": "2648d005",
   "metadata": {},
   "outputs": [],
   "source": [
    "for i in range(len(graphs)):\n",
    "    nodes = graphs[i].nodes\n",
    "    mapping = {node: int(node[node.find(\":\")+1:]) for node in nodes}\n",
    "    graphs[i] = nx.relabel_nodes(graphs[i], mapping)"
   ]
  },
  {
   "cell_type": "code",
   "execution_count": 6,
   "id": "e7275291",
   "metadata": {},
   "outputs": [],
   "source": [
    "for i in range(len(graphs)):\n",
    "    for node in graphs[i]:\n",
    "        if node in counts:\n",
    "            if counts[node][0] + total_failed - counts[node][1] == 0:\n",
    "                graphs[i].nodes[node][\"score\"] = counts[node][1]**2/0.5\n",
    "            else:\n",
    "                graphs[i].nodes[node][\"score\"] = counts[node][1]**2/(counts[node][0] + total_failed - counts[node][1])\n",
    "            graphs[i].nodes[node][\"passing\"] = counts[node][0]\n",
    "            graphs[i].nodes[node][\"failing\"] = counts[node][1]\n",
    "        else:\n",
    "            graphs[i].nodes[node][\"score\"] = 0\n",
    "            graphs[i].nodes[node][\"passing\"] = 0\n",
    "            graphs[i].nodes[node][\"failing\"] = 0"
   ]
  },
  {
   "cell_type": "code",
   "execution_count": 7,
   "id": "f30d54bb",
   "metadata": {},
   "outputs": [
    {
     "data": {
      "image/png": "[encoded data removed]",
      "text/plain": [
       "<Figure size 640x480 with 1 Axes>"
      ]
     },
     "metadata": {},
     "output_type": "display_data"
    }
   ],
   "source": [
    "nx.draw(graphs[0])"
   ]
  },
  {
   "cell_type": "code",
   "execution_count": 8,
   "id": "6afd352f",
   "metadata": {},
   "outputs": [],
   "source": [
    "import numpy as np"
   ]
  },
  {
   "cell_type": "code",
   "execution_count": 9,
   "id": "7f92e55e",
   "metadata": {},
   "outputs": [],
   "source": [
    "def inverse_sqrt_degree_matrix(D):\n",
    "    d = np.diag(D)\n",
    "    d_inv_sqrt = np.zeros_like(d)\n",
    "    nonzero_mask = d > 0\n",
    "    d_inv_sqrt[nonzero_mask] = 1.0 / np.sqrt(d[nonzero_mask])\n",
    "    return np.diag(d_inv_sqrt)"
   ]
  },
  {
   "cell_type": "code",
   "execution_count": 10,
   "id": "18e60453",
   "metadata": {},
   "outputs": [],
   "source": [
    "graph = graphs[0]\n",
    "\n",
    "\n",
    "index_to_line = list(graph.nodes)\n",
    "suspiciousness = [graph.nodes[index_to_line[i]][\"score\"] for i in range(len(index_to_line))]\n",
    "line_to_index = {}\n",
    "for i, line in enumerate(index_to_line):\n",
    "    line_to_index[line] = i\n",
    "\n",
    "suspiciousness = np.array(suspiciousness).reshape((-1,1))\n",
    "adjacency_matrix = np.zeros((len(index_to_line), len(index_to_line)))\n",
    "\n",
    "for edge in graph.edges:\n",
    "    adjacency_matrix[line_to_index[edge[0]], line_to_index[edge[1]]] = 1\n",
    "\n",
    "adj_matrix = adjacency_matrix.copy()\n",
    "\n",
    "for i in range(adjacency_matrix.shape[0]):\n",
    "    if adj_matrix[i].sum() == 0:\n",
    "        adj_matrix[i][i] = 1\n",
    "\n",
    "adj_matrix/= adj_matrix.sum(axis=1,keepdims=1)\n",
    "\n",
    "alpha = 0.5\n",
    "flow = (1-alpha)*suspiciousness + alpha*adj_matrix@suspiciousness\n",
    "\n",
    "augmented = adjacency_matrix + np.eye(adjacency_matrix.shape[0])\n",
    "D_in = np.diag(np.sum(augmented, axis=0))\n",
    "D_out = np.diag(np.sum(augmented, axis=1))\n",
    "\n",
    "in_suspiciousness = inverse_sqrt_degree_matrix(D_in) @ augmented @ inverse_sqrt_degree_matrix(D_in) @ suspiciousness\n",
    "out_suspiciousness = inverse_sqrt_degree_matrix(D_out) @ augmented @ inverse_sqrt_degree_matrix(D_out) @ suspiciousness"
   ]
  },
  {
   "cell_type": "code",
   "execution_count": null,
   "id": "50686076",
   "metadata": {},
   "outputs": [],
   "source": []
  },
  {
   "cell_type": "code",
   "execution_count": null,
   "id": "7aa3f85c",
   "metadata": {},
   "outputs": [],
   "source": [
    "centrality = nx.pagerank(graph)\n",
    "for node in graph.nodes:\n",
    "    centrality[node] *= graph.nodes[node][\"score\"]"
   ]
  },
  {
   "cell_type": "code",
   "execution_count": 37,
   "id": "34484fa6",
   "metadata": {},
   "outputs": [
    {
     "data": {
      "text/plain": [
       "{118: 0.04056263846185527,\n",
       " 141: 0.059345492560149864,\n",
       " 81: 0.032831876778536974,\n",
       " 55: 0.0,\n",
       " 66: 0.02325591271813035,\n",
       " 75: 0.03171260825199594,\n",
       " 79: 0.0325582778053825,\n",
       " 84: 0.03294587635068467,\n",
       " 80: 0.03270362725987081,\n",
       " 73: 0.031007883624173803,\n",
       " 67: 0.026162901807896648,\n",
       " 59: 0.0,\n",
       " 128: 0.06941819107808413,\n",
       " 136: 0.233506781786471,\n",
       " 58: 0.0,\n",
       " 110: 0.0,\n",
       " 127: 0.06985178959423204,\n",
       " 104: 0.07049854096343214,\n",
       " 90: 0.03313967562333575,\n",
       " 135: 0.08191567706894964,\n",
       " 134: 0.0,\n",
       " 108: 0.0386479339776224,\n",
       " 126: 0.07033101298969702,\n",
       " 138: 0.006874969653454264,\n",
       " 60: 0.0,\n",
       " 100: 0.0,\n",
       " 62: 0.0,\n",
       " 72: 0.030523385442546094,\n",
       " 77: 0.03220049453279588,\n",
       " 61: 0.0,\n",
       " 119: 0.04009975859232644,\n",
       " 70: 0.029069890897662938,\n",
       " 114: 0.07480918116226286,\n",
       " 68: 0.027907095261756425,\n",
       " 94: 0.03329823866459573,\n",
       " 65: 0.017441934538597766,\n",
       " 95: 0.0,\n",
       " 98: 0.03626914907665095,\n",
       " 74: 0.031395482169475984,\n",
       " 57: 0.0,\n",
       " 122: 0.03932560395969559,\n",
       " 76: 0.031976879987429235,\n",
       " 78: 0.03239216414311013,\n",
       " 71: 0.02990045920902474,\n",
       " 124: 0.038999760786497126,\n",
       " 97: 0.06516762520501469,\n",
       " 133: 0.06902454087103348,\n",
       " 132: 0.0,\n",
       " 91: 0.03322273245447193,\n",
       " 142: 0.05752429550596169,\n",
       " 87: 0.03304787596786945,\n",
       " 120: 0.03969009103894247}"
      ]
     },
     "execution_count": 37,
     "metadata": {},
     "output_type": "execute_result"
    }
   ],
   "source": [
    "centrality"
   ]
  },
  {
   "cell_type": "code",
   "execution_count": 40,
   "id": "6edac354",
   "metadata": {},
   "outputs": [
    {
     "name": "stdout",
     "output_type": "stream",
     "text": [
      "[(0.7413829011575296, 136), (0.2591327021324105, 135), (0.24406216345125187, 128), (0.24403212185566342, 127), (0.24376158738807266, 126), (0.23556963727831737, 114), (0.23552304989615433, 104), (0.23319367868928342, 97), (0.21965897860107733, 133), (0.16866697980773918, 141), (0.14620235828552255, 118), (0.1329630107102392, 120), (0.13281590496179238, 124), (0.13266520579048274, 87), (0.13157735612111263, 108), (0.13133881903765285, 98), (0.12432549781077643, 142), (0.12207904866107169, 119), (0.1207551098201083, 122), (0.12072533728008515, 90), (0.11953135053650421, 91), (0.11941195196960493, 94), (0.11939868617856379, 73), (0.11939868617856379, 74), (0.11939868617856379, 75), (0.11939868617856379, 76), (0.11939868617856379, 77), (0.11939868617856379, 78), (0.11939868617856379, 79), (0.11939868617856379, 80), (0.11939868617856379, 81), (0.11939868617856379, 84), (0.11939868510397562, 72), (0.11939867435809384, 71), (0.11939856689927618, 70), (0.1193974923110995, 68), (0.11938674642933268, 67), (0.11927928761166454, 66), (0.11820469943498288, 65), (0.10547137780057898, 55), (0.02182799535008284, 138), (0.0, 57), (0.0, 58), (0.0, 59), (0.0, 60), (0.0, 61), (0.0, 62), (0.0, 95), (0.0, 100), (0.0, 110), (0.0, 132), (0.0, 134)]\n",
      "14\n"
     ]
    }
   ],
   "source": [
    "actual_bad_line = 87\n",
    "\n",
    "L1 = [centrality[i] for i in index_to_line]\n",
    "\n",
    "# L1 = suspiciousness.T.tolist()[0]\n",
    "L1 = [(m,index_to_line[i]) for i,m in enumerate(L1)]\n",
    "L1.sort(key = lambda s: (-s[0], s[1]))\n",
    "print(L1)\n",
    "\n",
    "for i in range(len(L1)):\n",
    "    if L1[i][1] == actual_bad_line:\n",
    "        score = L1[i][0]\n",
    "        break\n",
    "\n",
    "for i in range(len(L1)):\n",
    "    if abs(L1[i][0]-score)<1e-6:\n",
    "        print(i+1)\n",
    "        \n",
    "        "
   ]
  },
  {
   "cell_type": "code",
   "execution_count": 14,
   "id": "a235e5b4",
   "metadata": {},
   "outputs": [
    {
     "data": {
      "text/plain": [
       "30"
      ]
     },
     "execution_count": 14,
     "metadata": {},
     "output_type": "execute_result"
    }
   ],
   "source": [
    "38-9+1"
   ]
  },
  {
   "cell_type": "code",
   "execution_count": 15,
   "id": "f8f079b6",
   "metadata": {},
   "outputs": [
    {
     "name": "stdout",
     "output_type": "stream",
     "text": [
      "136\n",
      "136\n",
      "136\n",
      "135\n"
     ]
    }
   ],
   "source": [
    "print(index_to_line[suspiciousness.argmax()])\n",
    "print(index_to_line[flow.argmax()])\n",
    "print(index_to_line[out_suspiciousness.argmax()])\n",
    "print(index_to_line[in_suspiciousness.argmax()])"
   ]
  },
  {
   "cell_type": "markdown",
   "id": "218afe05",
   "metadata": {},
   "source": []
  },
  {
   "cell_type": "code",
   "execution_count": 16,
   "id": "c36eca21",
   "metadata": {},
   "outputs": [
    {
     "data": {
      "text/plain": [
       "array([[0.88953866],\n",
       "       [0.88953866],\n",
       "       [0.88953866],\n",
       "       [0.65892803],\n",
       "       [0.88953866],\n",
       "       [0.88953866],\n",
       "       [0.88953866],\n",
       "       [0.88953866],\n",
       "       [0.88953866],\n",
       "       [0.88953866],\n",
       "       [0.88953866],\n",
       "       [0.        ],\n",
       "       [1.34691067],\n",
       "       [3.20613297],\n",
       "       [0.        ],\n",
       "       [0.44476933],\n",
       "       [1.6162928 ],\n",
       "       [1.31342415],\n",
       "       [0.88953866],\n",
       "       [2.38541673],\n",
       "       [0.44476933],\n",
       "       [0.87909674],\n",
       "       [1.6162928 ],\n",
       "       [0.52607014],\n",
       "       [0.        ],\n",
       "       [0.44476933],\n",
       "       [0.        ],\n",
       "       [0.88953866],\n",
       "       [0.88953866],\n",
       "       [0.        ],\n",
       "       [0.88953866],\n",
       "       [0.88953866],\n",
       "       [1.31342415],\n",
       "       [0.88953866],\n",
       "       [0.87909674],\n",
       "       [0.88953866],\n",
       "       [0.44476933],\n",
       "       [0.87909674],\n",
       "       [0.88953866],\n",
       "       [0.        ],\n",
       "       [0.88953866],\n",
       "       [0.88953866],\n",
       "       [0.88953866],\n",
       "       [0.88953866],\n",
       "       [1.01066435],\n",
       "       [1.31342415],\n",
       "       [1.29018865],\n",
       "       [0.44476933],\n",
       "       [0.88953866],\n",
       "       [0.88953866],\n",
       "       [0.88953866],\n",
       "       [0.88953866]])"
      ]
     },
     "execution_count": 16,
     "metadata": {},
     "output_type": "execute_result"
    }
   ],
   "source": [
    "flow"
   ]
  },
  {
   "cell_type": "code",
   "execution_count": 17,
   "id": "6b83da54",
   "metadata": {},
   "outputs": [
    {
     "data": {
      "text/plain": [
       "array([[0.88953866],\n",
       "       [0.88953866],\n",
       "       [0.88953866],\n",
       "       [0.87308673],\n",
       "       [0.88953866],\n",
       "       [0.88953866],\n",
       "       [0.88953866],\n",
       "       [0.88953866],\n",
       "       [0.88953866],\n",
       "       [0.88953866],\n",
       "       [0.88953866],\n",
       "       [0.        ],\n",
       "       [1.6162928 ],\n",
       "       [5.52272727],\n",
       "       [0.        ],\n",
       "       [0.        ],\n",
       "       [1.6162928 ],\n",
       "       [1.73730964],\n",
       "       [0.88953866],\n",
       "       [1.92816901],\n",
       "       [0.        ],\n",
       "       [0.88953866],\n",
       "       [1.6162928 ],\n",
       "       [0.16260163],\n",
       "       [0.        ],\n",
       "       [0.        ],\n",
       "       [0.        ],\n",
       "       [0.88953866],\n",
       "       [0.88953866],\n",
       "       [0.        ],\n",
       "       [0.88953866],\n",
       "       [0.88953866],\n",
       "       [1.73730964],\n",
       "       [0.88953866],\n",
       "       [0.88953866],\n",
       "       [0.88953866],\n",
       "       [0.        ],\n",
       "       [0.88953866],\n",
       "       [0.88953866],\n",
       "       [0.        ],\n",
       "       [0.88953866],\n",
       "       [0.88953866],\n",
       "       [0.88953866],\n",
       "       [0.88953866],\n",
       "       [0.88953866],\n",
       "       [1.73730964],\n",
       "       [1.6162928 ],\n",
       "       [0.        ],\n",
       "       [0.88953866],\n",
       "       [0.88953866],\n",
       "       [0.88953866],\n",
       "       [0.88953866]])"
      ]
     },
     "execution_count": 17,
     "metadata": {},
     "output_type": "execute_result"
    }
   ],
   "source": [
    "suspiciousness"
   ]
  },
  {
   "cell_type": "code",
   "execution_count": null,
   "id": "99fac042",
   "metadata": {},
   "outputs": [],
   "source": []
  },
  {
   "cell_type": "code",
   "execution_count": 18,
   "id": "e9b53be8",
   "metadata": {},
   "outputs": [],
   "source": [
    "alpha = 0.1\n"
   ]
  },
  {
   "cell_type": "code",
   "execution_count": 19,
   "id": "97d43d61",
   "metadata": {},
   "outputs": [
    {
     "data": {
      "text/plain": [
       "array([[0.88953866],\n",
       "       [0.88953866],\n",
       "       [0.88953866],\n",
       "       [0.87308673],\n",
       "       [0.88953866],\n",
       "       [0.88953866],\n",
       "       [0.88953866],\n",
       "       [0.88953866],\n",
       "       [0.88953866],\n",
       "       [0.88953866],\n",
       "       [0.88953866],\n",
       "       [0.        ],\n",
       "       [1.6162928 ],\n",
       "       [5.52272727],\n",
       "       [0.        ],\n",
       "       [0.        ],\n",
       "       [1.6162928 ],\n",
       "       [1.73730964],\n",
       "       [0.88953866],\n",
       "       [1.92816901],\n",
       "       [0.        ],\n",
       "       [0.88953866],\n",
       "       [1.6162928 ],\n",
       "       [0.16260163],\n",
       "       [0.        ],\n",
       "       [0.        ],\n",
       "       [0.        ],\n",
       "       [0.88953866],\n",
       "       [0.88953866],\n",
       "       [0.        ],\n",
       "       [0.88953866],\n",
       "       [0.88953866],\n",
       "       [1.73730964],\n",
       "       [0.88953866],\n",
       "       [0.88953866],\n",
       "       [0.88953866],\n",
       "       [0.        ],\n",
       "       [0.88953866],\n",
       "       [0.88953866],\n",
       "       [0.        ],\n",
       "       [0.88953866],\n",
       "       [0.88953866],\n",
       "       [0.88953866],\n",
       "       [0.88953866],\n",
       "       [0.88953866],\n",
       "       [1.73730964],\n",
       "       [1.6162928 ],\n",
       "       [0.        ],\n",
       "       [0.88953866],\n",
       "       [0.88953866],\n",
       "       [0.88953866],\n",
       "       [0.88953866]])"
      ]
     },
     "execution_count": 19,
     "metadata": {},
     "output_type": "execute_result"
    }
   ],
   "source": [
    "suspiciousness"
   ]
  }
 ],
 "metadata": {
  "kernelspec": {
   "display_name": ".venv",
   "language": "python",
   "name": "python3"
  },
  "language_info": {
   "codemirror_mode": {
    "name": "ipython",
    "version": 3
   },
   "file_extension": ".py",
   "mimetype": "text/x-python",
   "name": "python",
   "nbconvert_exporter": "python",
   "pygments_lexer": "ipython3",
   "version": "3.12.3"
  }
 },
 "nbformat": 4,
 "nbformat_minor": 5
}
