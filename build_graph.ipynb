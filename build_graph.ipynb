{
 "cells": [
  {
   "cell_type": "code",
   "execution_count": 24,
   "id": "dea2f78d",
   "metadata": {},
   "outputs": [],
   "source": [
    "import json\n",
    "import networkx as nx\n",
    "from collections import defaultdict\n",
    "\n",
    "data = json.load(open(\"/home/vvejalla/centralized-localization/cfg_all_functions.json\"))\n",
    "\n",
    "graphs = []\n",
    "\n",
    "node_to_lines_all = []\n",
    "\n",
    "for entry in data:\n",
    "    G = nx.DiGraph()\n",
    "    node_to_lines = {}\n",
    "    # edge from line i to line j iff there is a single block with i and j adjacent in the block \n",
    "    # or there are two blocks that are connected and \n",
    "    # Add nodes and their line mappings\n",
    "    \n",
    "    lines_set = set()\n",
    "    \n",
    "    \n",
    "    for node, info in entry[\"nodes\"].items():\n",
    "        G.add_node(node)\n",
    "        lines = info.get(\"lines\", [])\n",
    "        node_to_lines[node] = lines\n",
    "        lines_set = lines_set.union(set(lines))\n",
    "\n",
    "    # Add edges\n",
    "    for edge in entry[\"edges\"]:\n",
    "        src, tgt = edge\n",
    "        G.add_edge(src, tgt)\n",
    "    \n",
    "    H = nx.DiGraph()\n",
    "    H.add_nodes_from(lines_set)\n",
    "    for node in G.nodes:\n",
    "        for i in range(1, len(node_to_lines[node])):\n",
    "            H.add_edge(node_to_lines[node][i-1], node_to_lines[node][i])\n",
    "    \n",
    "    for edge in G.edges:\n",
    "        if len(node_to_lines[edge[0]]) > 0 and len(node_to_lines[edge[1]]) > 0:\n",
    "            H.add_edge(node_to_lines[edge[0]][-1], node_to_lines[edge[1]][0])\n",
    "    \n",
    "\n",
    "    graphs.append(H)\n",
    "    # node_to_lines_all.append(node_to_lines)"
   ]
  },
  {
   "cell_type": "code",
   "execution_count": null,
   "id": "24a11c24",
   "metadata": {},
   "outputs": [],
   "source": [
    "no"
   ]
  },
  {
   "cell_type": "code",
   "execution_count": 9,
   "id": "65510c67",
   "metadata": {},
   "outputs": [
    {
     "data": {
      "text/plain": [
       "{'bb2': ['quicksort.c:17',\n",
       "  'quicksort.c:18',\n",
       "  'quicksort.c:19',\n",
       "  'quicksort.c:22',\n",
       "  'quicksort.c:23'],\n",
       " 'bb3': ['quicksort.c:25'],\n",
       " 'bb4': ['quicksort.c:27', 'quicksort.c:28'],\n",
       " 'bb7': ['quicksort.c:31', 'quicksort.c:33']}"
      ]
     },
     "execution_count": 9,
     "metadata": {},
     "output_type": "execute_result"
    }
   ],
   "source": [
    "node_to_lines_all[1]"
   ]
  },
  {
   "cell_type": "code",
   "execution_count": 26,
   "id": "dac62f60",
   "metadata": {},
   "outputs": [
    {
     "data": {
      "text/plain": [
       "NodeView(('quicksort.c:25', 'quicksort.c:17', 'quicksort.c:28', 'quicksort.c:23', 'quicksort.c:27', 'quicksort.c:31', 'quicksort.c:33', 'quicksort.c:22', 'quicksort.c:18', 'quicksort.c:19'))"
      ]
     },
     "execution_count": 26,
     "metadata": {},
     "output_type": "execute_result"
    }
   ],
   "source": [
    "graphs[1].nodes"
   ]
  },
  {
   "cell_type": "code",
   "execution_count": null,
   "id": "48fea433",
   "metadata": {},
   "outputs": [],
   "source": []
  }
 ],
 "metadata": {
  "kernelspec": {
   "display_name": ".venv",
   "language": "python",
   "name": "python3"
  },
  "language_info": {
   "codemirror_mode": {
    "name": "ipython",
    "version": 3
   },
   "file_extension": ".py",
   "mimetype": "text/x-python",
   "name": "python",
   "nbconvert_exporter": "python",
   "pygments_lexer": "ipython3",
   "version": "3.12.3"
  }
 },
 "nbformat": 4,
 "nbformat_minor": 5
}
